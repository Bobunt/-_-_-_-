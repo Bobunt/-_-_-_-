{
  "nbformat": 4,
  "nbformat_minor": 0,
  "metadata": {
    "colab": {
      "provenance": []
    },
    "kernelspec": {
      "name": "python3",
      "display_name": "Python 3"
    },
    "language_info": {
      "name": "python"
    }
  },
  "cells": [
    {
      "cell_type": "code",
      "execution_count": null,
      "metadata": {
        "id": "Uko6Ef6vxshf"
      },
      "outputs": [],
      "source": [
        "\"\"\"\n",
        "Описание: Какой месяц\n",
        "\"\"\"\n",
        "month_number = int(input(\"Введите номер месяца (от 1 до 12): \"))\n",
        "\n",
        "months = [\n",
        "    \"Январь\", \"Февраль\", \"Март\", \"Апрель\", \"Май\", \"Июнь\",\n",
        "    \"Июль\", \"Август\", \"Сентябрь\", \"Октябрь\", \"Ноябрь\", \"Декабрь\"\n",
        "]\n",
        "\n",
        "if 1 <= month_number <= 12:\n",
        "    print(f\"Месяц: {months[month_number - 1]}\")\n",
        "else:\n",
        "    print(\"Ошибка: номер месяца должен быть от 1 до 12.\")"
      ]
    },
    {
      "cell_type": "code",
      "source": [
        "\"\"\"\n",
        "Описание: Наибольший общий делитель\n",
        "\"\"\"\n",
        "def gcd(a, b):\n",
        "    while b != 0:\n",
        "        a, b = b, a % b\n",
        "    return a\n",
        "\n",
        "num1 = int(input(\"Введите первое число: \"))\n",
        "num2 = int(input(\"Введите второе число: \"))\n",
        "\n",
        "result = gcd(num1, num2)\n",
        "\n",
        "print(f\"Наибольший общий делитель чисел {num1} и {num2} равен {result}\")"
      ],
      "metadata": {
        "id": "5nVN5CiDyMoV"
      },
      "execution_count": null,
      "outputs": []
    },
    {
      "cell_type": "code",
      "source": [
        "\"\"\"\n",
        "Описание: Проверка расширения файла\n",
        "\"\"\"\n",
        "file_name = input(\"Введите имя файла с расширением: \")\n",
        "\n",
        "supported_extensions = [\"txt\", \"jpg\", \"png\", \"pdf\", \"docx\"]\n",
        "\n",
        "if \".\" in file_name:\n",
        "    extension = file_name.split(\".\")[-1].lower()\n",
        "    if extension in supported_extensions:\n",
        "        print(f\"Файл имеет допустимое расширение: .{extension}\")\n",
        "    else:\n",
        "        print(f\"Файл имеет недопустимое расширение: .{extension}\")\n",
        "else:\n",
        "    print(\"Ошибка: файл не содержит расширения.\")"
      ],
      "metadata": {
        "id": "3Vx8lK3WyiYz"
      },
      "execution_count": null,
      "outputs": []
    },
    {
      "cell_type": "code",
      "source": [
        "\"\"\"\n",
        "Описание: Выскосный Год\n",
        "\"\"\"\n",
        "year = int(input(\"Введите год: \"))\n",
        "\n",
        "if (year % 4 == 0 and year % 100 != 0) or (year % 400 == 0):\n",
        "    print(f\"{year} год является високосным.\")\n",
        "else:\n",
        "    print(f\"{year} год не является високосным.\")"
      ],
      "metadata": {
        "id": "1n04BPP6yndM"
      },
      "execution_count": null,
      "outputs": []
    }
  ]
}