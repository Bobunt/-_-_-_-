{
  "nbformat": 4,
  "nbformat_minor": 0,
  "metadata": {
    "colab": {
      "provenance": []
    },
    "kernelspec": {
      "name": "python3",
      "display_name": "Python 3"
    },
    "language_info": {
      "name": "python"
    }
  },
  "cells": [
    {
      "cell_type": "code",
      "execution_count": null,
      "metadata": {
        "colab": {
          "base_uri": "https://localhost:8080/"
        },
        "id": "UYpOYSg_SGlT",
        "outputId": "541c70f0-6e30-4b6a-fc5b-bc8d9b341aeb"
      },
      "outputs": [
        {
          "output_type": "stream",
          "name": "stdout",
          "text": [
            "00:02:46:40\n"
          ]
        }
      ],
      "source": [
        "\"\"\"\n",
        "Описание: Сделайте так, чтобы число секунд отображалось в виде дни:часы:минуты:секунды\n",
        "\"\"\"\n",
        "\n",
        "def second_to_date(sec):\n",
        "  day = sec // (60*60*24)\n",
        "  sec %= (60*60*24)\n",
        "  hour = sec // (60*60)\n",
        "  sec %= (60*60)\n",
        "  min = sec // 60\n",
        "  sec %= 60\n",
        "  return f\"{day:02}:{hour:02}:{min:02}:{sec:02}\"\n",
        "\n",
        "print(second_to_date(10000))"
      ]
    },
    {
      "cell_type": "code",
      "source": [
        "\"\"\"\n",
        "Описание: Напишите калькулятор который запрашивает на входе две переменные и знак, и в соответствии с знаком ( + - * / ) выводит результат\n",
        "\"\"\"\n",
        "def calculator():\n",
        "    try:\n",
        "        num1 = float(input(\"Введите первое число: \"))\n",
        "        num2 = float(input(\"Введите второе число: \"))\n",
        "\n",
        "        operation = input(\"Введите операцию (+, -, *, /): \")\n",
        "\n",
        "        if operation == \"+\":\n",
        "            result = num1 + num2\n",
        "        elif operation == \"-\":\n",
        "            result = num1 - num2\n",
        "        elif operation == \"*\":\n",
        "            result = num1 * num2\n",
        "        elif operation == \"/\":\n",
        "            if num2 == 0:\n",
        "                return \"Ошибка: Деление на ноль!\"\n",
        "            result = num1 / num2\n",
        "        else:\n",
        "            return \"Ошибка: Некорректный знак операции!\"\n",
        "\n",
        "        return f\"Результат: {result}\"\n",
        "    except ValueError:\n",
        "        return \"Ошибка: Введите корректные числа!\"\n",
        "\n",
        "print(calculator())"
      ],
      "metadata": {
        "id": "N59OSi8ZaexF"
      },
      "execution_count": null,
      "outputs": []
    },
    {
      "cell_type": "code",
      "source": [
        "\"\"\"\n",
        "Описание: Считайте 2 строки и выведите их на печать, разделив символом $. C помощью конкатенации строк\n",
        "\"\"\"\n",
        "str1 = input(\"Введите первую строку: \")\n",
        "str2 = input(\"Введите вторую строку: \")\n",
        "\n",
        "\n",
        "result = str1 + \"$\" + str2\n",
        "print(result)"
      ],
      "metadata": {
        "colab": {
          "base_uri": "https://localhost:8080/"
        },
        "id": "7gxoiGYhw-9-",
        "outputId": "f06051cf-ac9a-4a62-a2fd-13e59f6ac006"
      },
      "execution_count": 1,
      "outputs": [
        {
          "output_type": "stream",
          "name": "stdout",
          "text": [
            "Введите первую строку: 22\n",
            "Введите вторую строку: 33\n",
            "22$33\n"
          ]
        }
      ]
    },
    {
      "cell_type": "code",
      "source": [
        "\n",
        "\"\"\"\n",
        "Описание: Считайте 2 строки и выведите их на печать, разделив символом $. C помощью указания разделителя в параметре sep метода print\n",
        "\"\"\"\n",
        "str1 = input(\"Введите первую строку: \")\n",
        "str2 = input(\"Введите вторую строку: \")\n",
        "\n",
        "print(str1, str2, sep=\"$\")"
      ],
      "metadata": {
        "colab": {
          "base_uri": "https://localhost:8080/"
        },
        "id": "f4wSPqE1xSBN",
        "outputId": "244b5cf0-008e-4f68-b107-19a61967af66"
      },
      "execution_count": 2,
      "outputs": [
        {
          "output_type": "stream",
          "name": "stdout",
          "text": [
            "Введите первую строку: 11\n",
            "Введите вторую строку: 22\n",
            "11$22\n"
          ]
        }
      ]
    },
    {
      "cell_type": "code",
      "source": [
        "\"\"\"\n",
        "Описание: Напишите поздравление с Днем рождения, где программа считает имя и возраст и выведет поздравление столько раз, сколько лет именнинику\n",
        "\"\"\"\n",
        "name = input(\"Введите имя именинника: \")\n",
        "age = int(input(\"Введите возраст именинника: \"))\n",
        "\n",
        "congratulation = f\"С Днем Рождения, {name}! Желаю счастья, здоровья и успехов!\"\n",
        "\n",
        "for _ in range(age):\n",
        "    print(congratulation)"
      ],
      "metadata": {
        "colab": {
          "base_uri": "https://localhost:8080/"
        },
        "id": "vG_hM6gSxjNw",
        "outputId": "059c4dd9-2393-40b1-ace2-fa1ea6f94b7a"
      },
      "execution_count": 2,
      "outputs": [
        {
          "output_type": "stream",
          "name": "stdout",
          "text": [
            "Введите имя именинника: OLOL\n",
            "Введите возраст именинника: 3\n",
            "С Днем Рождения, OLOL! Желаю счастья, здоровья и успехов!\n",
            "С Днем Рождения, OLOL! Желаю счастья, здоровья и успехов!\n",
            "С Днем Рождения, OLOL! Желаю счастья, здоровья и успехов!\n"
          ]
        }
      ]
    }
  ]
}