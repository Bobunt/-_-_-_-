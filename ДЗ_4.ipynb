{
  "nbformat": 4,
  "nbformat_minor": 0,
  "metadata": {
    "colab": {
      "provenance": []
    },
    "kernelspec": {
      "name": "python3",
      "display_name": "Python 3"
    },
    "language_info": {
      "name": "python"
    }
  },
  "cells": [
    {
      "cell_type": "code",
      "execution_count": null,
      "metadata": {
        "id": "AG0iQqtV9s6O"
      },
      "outputs": [],
      "source": [
        "\"\"\"\n",
        "Описание: Напишите функцию, извлекающую корень n-й степени из числа x. По умолчанию def будет извлекать квадратный корень\n",
        "\"\"\"\n",
        "def root(x, n=2):\n",
        "    if x < 0 and n % 2 == 0:\n",
        "        raise ValueError(\"Невозможно извлечь корень четной степени из отрицательного числа.\")\n",
        "    return x ** (1 / n)\n",
        "\n",
        "print(root(16))\n",
        "print(root(27, 3))\n",
        "print(root(81, 4))"
      ]
    },
    {
      "cell_type": "code",
      "source": [
        "\"\"\"\n",
        "Описание: Слейте воедино три словаря\n",
        "\"\"\"\n",
        "dict_a = {1: 10, 2: 20}\n",
        "dict_b = {3: 30, 4: 40}\n",
        "dict_c = {5: 50, 6: 60}\n",
        "\n",
        "merged_dict = {**dict_a, **dict_b, **dict_c}\n",
        "\n",
        "print(merged_dict)"
      ],
      "metadata": {
        "id": "bki693or_Ls_"
      },
      "execution_count": null,
      "outputs": []
    },
    {
      "cell_type": "code",
      "source": [
        "\"\"\"\n",
        "Описание: Напишите функцию которая будет складывать цифры внутри числа\n",
        "\"\"\"\n",
        "def sum_digits(number):\n",
        "    number = abs(number)\n",
        "    return sum(int(digit) for digit in str(number))\n",
        "\n",
        "\n",
        "print(sum_digits(12345))\n",
        "print(sum_digits(-567))\n",
        "print(sum_digits(0))"
      ],
      "metadata": {
        "id": "NvBtNNTb_2xa"
      },
      "execution_count": null,
      "outputs": []
    },
    {
      "cell_type": "code",
      "source": [
        "\"\"\"\n",
        "Описание: Перепишите ваш код для проверки расширения из прошлого ДЗ в функцию которая принимает список расширений и имя файла\n",
        "\"\"\"\n",
        "SUPPORTED_EXTENSIONS = ['png', 'jpg', 'jpeg', 'gif', 'svg']\n",
        "\n",
        "def isSupported(filename):\n",
        "    splitted = filename.split('.')\n",
        "    if (len(splitted) < 2) or (len(splitted) == 2 and splitted[0] == \"\"):\n",
        "        return False\n",
        "    else:\n",
        "        extension = splitted[-1]\n",
        "        return extension in SUPPORTED_EXTENSIONS\n",
        "\n",
        "filename = '123.gif'\n",
        "print(isSupported(filename))"
      ],
      "metadata": {
        "id": "uvv_2ZLvKgyr"
      },
      "execution_count": null,
      "outputs": []
    },
    {
      "cell_type": "code",
      "source": [
        "\"\"\"\n",
        "Описание: Нужно проверить, все ли числа в последовательности уникальны\n",
        "\"\"\"\n",
        "def are_all_numbers_unique(numbers):\n",
        "    return len(numbers) == len(set(numbers))\n",
        "\n",
        "sequences = [\n",
        "    [1, 4, 5],\n",
        "    [1, 3, 4, 5],\n",
        "    [1, 8, 4, 5],\n",
        "    [1, 2, 2, 4, 5],\n",
        "    [1, 8, 8, 4, 5]\n",
        "]\n",
        "\n",
        "for seq in sequences:\n",
        "    print(f\"{seq}: Все числа уникальны? {are_all_numbers_unique(seq)}\")"
      ],
      "metadata": {
        "id": "6eArX_GuCiEr"
      },
      "execution_count": null,
      "outputs": []
    }
  ]
}