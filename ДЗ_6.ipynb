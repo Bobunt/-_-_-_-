{
  "nbformat": 4,
  "nbformat_minor": 0,
  "metadata": {
    "colab": {
      "provenance": []
    },
    "kernelspec": {
      "name": "python3",
      "display_name": "Python 3"
    },
    "language_info": {
      "name": "python"
    }
  },
  "cells": [
    {
      "cell_type": "code",
      "execution_count": 1,
      "metadata": {
        "colab": {
          "base_uri": "https://localhost:8080/"
        },
        "id": "obXEuGjBzSSw",
        "outputId": "071e462e-0b55-4f59-97d8-a621456fab48"
      },
      "outputs": [
        {
          "output_type": "stream",
          "name": "stdout",
          "text": [
            "Студент 1: Имя - Ivan, Возраст - 18, Группа - 10A\n",
            "Студент 2: Имя - Bob, Возраст - 19, Группа - 12C\n",
            "Студент 3: Имя - Charlie, Возраст - 21, Группа - 9A\n",
            "Студент 4: Имя - Diana, Возраст - 22, Группа - 8B\n",
            "Студент 5: Имя - Eve, Возраст - 18, Группа - 10C\n"
          ]
        }
      ],
      "source": [
        "\"\"\"\n",
        "Описание:  Напишите программу с классом Student, в котором есть три атрибута:\n",
        "name, groupNumber и age. По умолчанию name = Ivan, age = 18, groupNumber = 10A.\n",
        "Необходимо создать пять методов: getName, getAge, getGroupNumber, setNameAge,\n",
        "setGroupNumber. Метод getName нужен для получения данных об имени конкретного\n",
        "студента, метод getAge нужен для получения данных о возрасте конкретного студента,\n",
        "vетод setGroupNumberнужен для получения данных о номере группы конкретного студента.\n",
        "Метод SetNameAge позволяет изменить данные атрибутов установленных по умолчанию,\n",
        "метод setGroupNumber позволяет изменить номер группы установленный по умолчанию.\n",
        "В программе необходимо создать пять экземпляров класса Student, установить им\n",
        "разные имена, возраст и номер группы.\n",
        "\"\"\"\n",
        "class Student:\n",
        "    def __init__(self, name=\"Ivan\", age=18, groupNumber=\"10A\"):\n",
        "        self.name = name\n",
        "        self.age = age\n",
        "        self.groupNumber = groupNumber\n",
        "\n",
        "    def getName(self):\n",
        "        return self.name\n",
        "\n",
        "    def getAge(self):\n",
        "        return self.age\n",
        "\n",
        "    def getGroupNumber(self):\n",
        "        return self.groupNumber\n",
        "\n",
        "    def setNameAge(self, name, age):\n",
        "        self.name = name\n",
        "        self.age = age\n",
        "\n",
        "    def setGroupNumber(self, groupNumber):\n",
        "        self.groupNumber = groupNumber\n",
        "\n",
        "student1 = Student()\n",
        "student2 = Student()\n",
        "student3 = Student()\n",
        "student4 = Student()\n",
        "student5 = Student()\n",
        "\n",
        "student2.setNameAge(\"Bob\", 19)\n",
        "student2.setGroupNumber(\"12C\")\n",
        "\n",
        "student3.setNameAge(\"Charlie\", 21)\n",
        "student3.setGroupNumber(\"9A\")\n",
        "\n",
        "student4.setNameAge(\"Diana\", 22)\n",
        "student4.setGroupNumber(\"8B\")\n",
        "\n",
        "student5.setNameAge(\"Eve\", 18)\n",
        "student5.setGroupNumber(\"10C\")\n",
        "\n",
        "students = [student1, student2, student3, student4, student5]\n",
        "for i, student in enumerate(students, start=1):\n",
        "    print(f\"Студент {i}: Имя - {student.getName()}, Возраст - {student.getAge()}, Группа - {student.getGroupNumber()}\")\n"
      ]
    },
    {
      "cell_type": "code",
      "source": [
        "\"\"\"\n",
        "Описание: Напишите программу с классом Car. Создайте конструктор класса Car.\n",
        "Создайте атрибуты класса Car — color (цвет), type (тип), year (год).\n",
        "Напишите пять методов. Первый — запуск автомобиля, при его вызове выводится\n",
        "сообщение «Автомобиль заведен». Второй — отключение автомобиля — выводит\n",
        "сообщение «Автомобиль заглушен». Третий — присвоение автомобилю года выпуска.\n",
        "Четвертый метод — присвоение автомобилю типа. Пятый — присвоение автомобилю цвета.\n",
        "\"\"\"\n",
        "class Car:\n",
        "    def __init__(self, color=\"Не задан\", type=\"Не задан\", year=\"Не задан\"):\n",
        "        self.color = color\n",
        "        self.type = type\n",
        "        self.year = year\n",
        "\n",
        "    def start(self):\n",
        "        print(\"Автомобиль заведен\")\n",
        "\n",
        "    def stop(self):\n",
        "        print(\"Автомобиль заглушен\")\n",
        "\n",
        "    def set_year(self, year):\n",
        "        self.year = year\n",
        "        print(f\"Год выпуска установлен: {self.year}\")\n",
        "\n",
        "    def set_type(self, type):\n",
        "        self.type = type\n",
        "        print(f\"Тип автомобиля установлен: {self.type}\")\n",
        "\n",
        "    def set_color(self, color):\n",
        "        self.color = color\n",
        "        print(f\"Цвет автомобиля установлен: {self.color}\")\n",
        "\n",
        "    def info(self):\n",
        "        print(f\"Автомобиль: Тип - {self.type}, Цвет - {self.color}, Год выпуска - {self.year}\")\n",
        "\n",
        "\n",
        "car1 = Car()\n",
        "\n",
        "car1.set_color(\"Красный\")\n",
        "car1.set_type(\"Седан\")\n",
        "car1.set_year(2020)\n",
        "\n",
        "car1.start()\n",
        "car1.stop()\n",
        "\n",
        "car1.info()\n"
      ],
      "metadata": {
        "id": "pHMhPi8A7Oig"
      },
      "execution_count": null,
      "outputs": []
    }
  ]
}